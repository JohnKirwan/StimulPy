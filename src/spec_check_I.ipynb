{
 "cells": [
  {
   "cell_type": "raw",
   "metadata": {},
   "source": [
    "---\n",
    "title: \"Spec check\"\n",
    "author: \"John D. Kirwan\"\n",
    "date: \"November 27, 2019\"\n",
    "output:\n",
    "  html_document: default\n",
    "  pdf_document: default\n",
    "---"
   ]
  },
  {
   "cell_type": "code",
   "execution_count": 3,
   "metadata": {},
   "outputs": [],
   "source": [
    "import pandas as pd\n",
    "import numpy as np\n",
    "import plotnine"
   ]
  },
  {
   "cell_type": "markdown",
   "metadata": {},
   "source": [
    "Queries:\n",
    "- Given that the reflectance \n",
    "- Is the means of deciding wv sensitivity range optimal?"
   ]
  },
  {
   "cell_type": "markdown",
   "metadata": {},
   "source": [
    "TriOS units are in $mW/(m^2 nm Sr)$, so convert to W later."
   ]
  },
  {
   "cell_type": "code",
   "execution_count": 11,
   "metadata": {},
   "outputs": [
    {
     "ename": "SyntaxError",
     "evalue": "invalid syntax (<ipython-input-11-b60fe0e130f7>, line 3)",
     "output_type": "error",
     "traceback": [
      "\u001b[1;36m  File \u001b[1;32m\"<ipython-input-11-b60fe0e130f7>\"\u001b[1;36m, line \u001b[1;32m3\u001b[0m\n\u001b[1;33m    df %>% select(-X1,-specrad) -> df\u001b[0m\n\u001b[1;37m        ^\u001b[0m\n\u001b[1;31mSyntaxError\u001b[0m\u001b[1;31m:\u001b[0m invalid syntax\n"
     ]
    }
   ],
   "source": [
    "df = pd.read_table('spec_data_uncurated.txt',delimiter='\\t')\n",
    "df.specradW = df.specrad * 10**3\n",
    "df %>% select(-X1,-specrad) -> df\n",
    "df$specradW[df$specradW<0] <- 0 # values where the radiance is given as below zero are made zero\n",
    "df %>% filter(between(wv,350,750)) -> df # drop irrelevant and uncertain values\n",
    "df$white <- (df$dark / 100) - 0.5\n",
    "df$white <- (-df$white) + 0.5"
   ]
  },
  {
   "cell_type": "code",
   "execution_count": 16,
   "metadata": {},
   "outputs": [
    {
     "ename": "FileNotFoundError",
     "evalue": "[Errno 2] File spec_data_uncurated.txt does not exist: 'spec_data_uncurated.txt'",
     "output_type": "error",
     "traceback": [
      "\u001b[1;31m---------------------------------------------------------------------------\u001b[0m",
      "\u001b[1;31mFileNotFoundError\u001b[0m                         Traceback (most recent call last)",
      "\u001b[1;32m<ipython-input-16-a644c43791c7>\u001b[0m in \u001b[0;36m<module>\u001b[1;34m\u001b[0m\n\u001b[1;32m----> 1\u001b[1;33m \u001b[0mdf\u001b[0m \u001b[1;33m=\u001b[0m \u001b[0mpd\u001b[0m\u001b[1;33m.\u001b[0m\u001b[0mread_table\u001b[0m\u001b[1;33m(\u001b[0m\u001b[1;34m'spec_data_uncurated.txt'\u001b[0m\u001b[1;33m,\u001b[0m \u001b[0msep\u001b[0m\u001b[1;33m=\u001b[0m\u001b[1;34m'\\t'\u001b[0m\u001b[1;33m)\u001b[0m\u001b[1;33m\u001b[0m\u001b[1;33m\u001b[0m\u001b[0m\n\u001b[0m",
      "\u001b[1;32m~\\AppData\\Local\\r-miniconda\\lib\\site-packages\\pandas\\io\\parsers.py\u001b[0m in \u001b[0;36mparser_f\u001b[1;34m(filepath_or_buffer, sep, delimiter, header, names, index_col, usecols, squeeze, prefix, mangle_dupe_cols, dtype, engine, converters, true_values, false_values, skipinitialspace, skiprows, skipfooter, nrows, na_values, keep_default_na, na_filter, verbose, skip_blank_lines, parse_dates, infer_datetime_format, keep_date_col, date_parser, dayfirst, cache_dates, iterator, chunksize, compression, thousands, decimal, lineterminator, quotechar, quoting, doublequote, escapechar, comment, encoding, dialect, error_bad_lines, warn_bad_lines, delim_whitespace, low_memory, memory_map, float_precision)\u001b[0m\n\u001b[0;32m    674\u001b[0m         )\n\u001b[0;32m    675\u001b[0m \u001b[1;33m\u001b[0m\u001b[0m\n\u001b[1;32m--> 676\u001b[1;33m         \u001b[1;32mreturn\u001b[0m \u001b[0m_read\u001b[0m\u001b[1;33m(\u001b[0m\u001b[0mfilepath_or_buffer\u001b[0m\u001b[1;33m,\u001b[0m \u001b[0mkwds\u001b[0m\u001b[1;33m)\u001b[0m\u001b[1;33m\u001b[0m\u001b[1;33m\u001b[0m\u001b[0m\n\u001b[0m\u001b[0;32m    677\u001b[0m \u001b[1;33m\u001b[0m\u001b[0m\n\u001b[0;32m    678\u001b[0m     \u001b[0mparser_f\u001b[0m\u001b[1;33m.\u001b[0m\u001b[0m__name__\u001b[0m \u001b[1;33m=\u001b[0m \u001b[0mname\u001b[0m\u001b[1;33m\u001b[0m\u001b[1;33m\u001b[0m\u001b[0m\n",
      "\u001b[1;32m~\\AppData\\Local\\r-miniconda\\lib\\site-packages\\pandas\\io\\parsers.py\u001b[0m in \u001b[0;36m_read\u001b[1;34m(filepath_or_buffer, kwds)\u001b[0m\n\u001b[0;32m    446\u001b[0m \u001b[1;33m\u001b[0m\u001b[0m\n\u001b[0;32m    447\u001b[0m     \u001b[1;31m# Create the parser.\u001b[0m\u001b[1;33m\u001b[0m\u001b[1;33m\u001b[0m\u001b[1;33m\u001b[0m\u001b[0m\n\u001b[1;32m--> 448\u001b[1;33m     \u001b[0mparser\u001b[0m \u001b[1;33m=\u001b[0m \u001b[0mTextFileReader\u001b[0m\u001b[1;33m(\u001b[0m\u001b[0mfp_or_buf\u001b[0m\u001b[1;33m,\u001b[0m \u001b[1;33m**\u001b[0m\u001b[0mkwds\u001b[0m\u001b[1;33m)\u001b[0m\u001b[1;33m\u001b[0m\u001b[1;33m\u001b[0m\u001b[0m\n\u001b[0m\u001b[0;32m    449\u001b[0m \u001b[1;33m\u001b[0m\u001b[0m\n\u001b[0;32m    450\u001b[0m     \u001b[1;32mif\u001b[0m \u001b[0mchunksize\u001b[0m \u001b[1;32mor\u001b[0m \u001b[0miterator\u001b[0m\u001b[1;33m:\u001b[0m\u001b[1;33m\u001b[0m\u001b[1;33m\u001b[0m\u001b[0m\n",
      "\u001b[1;32m~\\AppData\\Local\\r-miniconda\\lib\\site-packages\\pandas\\io\\parsers.py\u001b[0m in \u001b[0;36m__init__\u001b[1;34m(self, f, engine, **kwds)\u001b[0m\n\u001b[0;32m    878\u001b[0m             \u001b[0mself\u001b[0m\u001b[1;33m.\u001b[0m\u001b[0moptions\u001b[0m\u001b[1;33m[\u001b[0m\u001b[1;34m\"has_index_names\"\u001b[0m\u001b[1;33m]\u001b[0m \u001b[1;33m=\u001b[0m \u001b[0mkwds\u001b[0m\u001b[1;33m[\u001b[0m\u001b[1;34m\"has_index_names\"\u001b[0m\u001b[1;33m]\u001b[0m\u001b[1;33m\u001b[0m\u001b[1;33m\u001b[0m\u001b[0m\n\u001b[0;32m    879\u001b[0m \u001b[1;33m\u001b[0m\u001b[0m\n\u001b[1;32m--> 880\u001b[1;33m         \u001b[0mself\u001b[0m\u001b[1;33m.\u001b[0m\u001b[0m_make_engine\u001b[0m\u001b[1;33m(\u001b[0m\u001b[0mself\u001b[0m\u001b[1;33m.\u001b[0m\u001b[0mengine\u001b[0m\u001b[1;33m)\u001b[0m\u001b[1;33m\u001b[0m\u001b[1;33m\u001b[0m\u001b[0m\n\u001b[0m\u001b[0;32m    881\u001b[0m \u001b[1;33m\u001b[0m\u001b[0m\n\u001b[0;32m    882\u001b[0m     \u001b[1;32mdef\u001b[0m \u001b[0mclose\u001b[0m\u001b[1;33m(\u001b[0m\u001b[0mself\u001b[0m\u001b[1;33m)\u001b[0m\u001b[1;33m:\u001b[0m\u001b[1;33m\u001b[0m\u001b[1;33m\u001b[0m\u001b[0m\n",
      "\u001b[1;32m~\\AppData\\Local\\r-miniconda\\lib\\site-packages\\pandas\\io\\parsers.py\u001b[0m in \u001b[0;36m_make_engine\u001b[1;34m(self, engine)\u001b[0m\n\u001b[0;32m   1112\u001b[0m     \u001b[1;32mdef\u001b[0m \u001b[0m_make_engine\u001b[0m\u001b[1;33m(\u001b[0m\u001b[0mself\u001b[0m\u001b[1;33m,\u001b[0m \u001b[0mengine\u001b[0m\u001b[1;33m=\u001b[0m\u001b[1;34m\"c\"\u001b[0m\u001b[1;33m)\u001b[0m\u001b[1;33m:\u001b[0m\u001b[1;33m\u001b[0m\u001b[1;33m\u001b[0m\u001b[0m\n\u001b[0;32m   1113\u001b[0m         \u001b[1;32mif\u001b[0m \u001b[0mengine\u001b[0m \u001b[1;33m==\u001b[0m \u001b[1;34m\"c\"\u001b[0m\u001b[1;33m:\u001b[0m\u001b[1;33m\u001b[0m\u001b[1;33m\u001b[0m\u001b[0m\n\u001b[1;32m-> 1114\u001b[1;33m             \u001b[0mself\u001b[0m\u001b[1;33m.\u001b[0m\u001b[0m_engine\u001b[0m \u001b[1;33m=\u001b[0m \u001b[0mCParserWrapper\u001b[0m\u001b[1;33m(\u001b[0m\u001b[0mself\u001b[0m\u001b[1;33m.\u001b[0m\u001b[0mf\u001b[0m\u001b[1;33m,\u001b[0m \u001b[1;33m**\u001b[0m\u001b[0mself\u001b[0m\u001b[1;33m.\u001b[0m\u001b[0moptions\u001b[0m\u001b[1;33m)\u001b[0m\u001b[1;33m\u001b[0m\u001b[1;33m\u001b[0m\u001b[0m\n\u001b[0m\u001b[0;32m   1115\u001b[0m         \u001b[1;32melse\u001b[0m\u001b[1;33m:\u001b[0m\u001b[1;33m\u001b[0m\u001b[1;33m\u001b[0m\u001b[0m\n\u001b[0;32m   1116\u001b[0m             \u001b[1;32mif\u001b[0m \u001b[0mengine\u001b[0m \u001b[1;33m==\u001b[0m \u001b[1;34m\"python\"\u001b[0m\u001b[1;33m:\u001b[0m\u001b[1;33m\u001b[0m\u001b[1;33m\u001b[0m\u001b[0m\n",
      "\u001b[1;32m~\\AppData\\Local\\r-miniconda\\lib\\site-packages\\pandas\\io\\parsers.py\u001b[0m in \u001b[0;36m__init__\u001b[1;34m(self, src, **kwds)\u001b[0m\n\u001b[0;32m   1889\u001b[0m         \u001b[0mkwds\u001b[0m\u001b[1;33m[\u001b[0m\u001b[1;34m\"usecols\"\u001b[0m\u001b[1;33m]\u001b[0m \u001b[1;33m=\u001b[0m \u001b[0mself\u001b[0m\u001b[1;33m.\u001b[0m\u001b[0musecols\u001b[0m\u001b[1;33m\u001b[0m\u001b[1;33m\u001b[0m\u001b[0m\n\u001b[0;32m   1890\u001b[0m \u001b[1;33m\u001b[0m\u001b[0m\n\u001b[1;32m-> 1891\u001b[1;33m         \u001b[0mself\u001b[0m\u001b[1;33m.\u001b[0m\u001b[0m_reader\u001b[0m \u001b[1;33m=\u001b[0m \u001b[0mparsers\u001b[0m\u001b[1;33m.\u001b[0m\u001b[0mTextReader\u001b[0m\u001b[1;33m(\u001b[0m\u001b[0msrc\u001b[0m\u001b[1;33m,\u001b[0m \u001b[1;33m**\u001b[0m\u001b[0mkwds\u001b[0m\u001b[1;33m)\u001b[0m\u001b[1;33m\u001b[0m\u001b[1;33m\u001b[0m\u001b[0m\n\u001b[0m\u001b[0;32m   1892\u001b[0m         \u001b[0mself\u001b[0m\u001b[1;33m.\u001b[0m\u001b[0munnamed_cols\u001b[0m \u001b[1;33m=\u001b[0m \u001b[0mself\u001b[0m\u001b[1;33m.\u001b[0m\u001b[0m_reader\u001b[0m\u001b[1;33m.\u001b[0m\u001b[0munnamed_cols\u001b[0m\u001b[1;33m\u001b[0m\u001b[1;33m\u001b[0m\u001b[0m\n\u001b[0;32m   1893\u001b[0m \u001b[1;33m\u001b[0m\u001b[0m\n",
      "\u001b[1;32mpandas\\_libs\\parsers.pyx\u001b[0m in \u001b[0;36mpandas._libs.parsers.TextReader.__cinit__\u001b[1;34m()\u001b[0m\n",
      "\u001b[1;32mpandas\\_libs\\parsers.pyx\u001b[0m in \u001b[0;36mpandas._libs.parsers.TextReader._setup_parser_source\u001b[1;34m()\u001b[0m\n",
      "\u001b[1;31mFileNotFoundError\u001b[0m: [Errno 2] File spec_data_uncurated.txt does not exist: 'spec_data_uncurated.txt'"
     ]
    }
   ],
   "source": [
    "df = pd.read_table('spec_data_uncurated.txt', sep='\\t')"
   ]
  },
  {
   "cell_type": "code",
   "execution_count": 15,
   "metadata": {},
   "outputs": [
    {
     "name": "stdout",
     "output_type": "stream",
     "text": [
      " Volume in drive C is OS\n",
      " Volume Serial Number is 1CA0-5675\n",
      "\n",
      " Directory of C:\\Users\\john\\GitHub\\P_lividus_adult_vision\\src\n",
      "\n",
      "2020-05-16  21:52    <DIR>          .\n",
      "2020-05-16  21:52    <DIR>          ..\n",
      "2020-05-16  19:25    <DIR>          .ipynb_checkpoints\n",
      "2020-05-13  17:58         4ÿ934ÿ114 DoG_40_150dpi.tiff\n",
      "2020-05-13  17:46         4ÿ934ÿ114 DoG40_150dpi.tiff\n",
      "2020-03-10  10:22             1ÿ266 downwelling_radiance.Rmd\n",
      "2020-03-10  10:22             2ÿ577 extract_spec_data.py\n",
      "2020-05-07  12:28             1ÿ817 invertfit.rds\n",
      "2020-05-16  18:48               631 material_reflectance.csv\n",
      "2020-05-16  12:40         7ÿ433ÿ922 Mex_100_150dpi.tiff\n",
      "2020-05-14  14:13         8ÿ207ÿ862 Mex_120_150dpi.tiff\n",
      "2020-05-13  17:59         4ÿ561ÿ524 Mex_40_150dpi.tiff\n",
      "2020-04-27  11:07             4ÿ217 P_lividus_adult_vision_DOE.Rmd\n",
      "2020-03-10  10:22             9ÿ854 pre-analysis.Rmd\n",
      "2020-05-14  13:55             2ÿ925 reflectance in differing windows.Rmd\n",
      "2020-05-07  14:18             1ÿ801 reflectance.fit.rds\n",
      "2020-05-16  21:52            21ÿ353 spec_check_I.ipynb\n",
      "2020-03-26  12:10             7ÿ129 spec_check_I.Rmd\n",
      "2020-05-16  19:22            11ÿ765 spec_check_II.ipynb\n",
      "2020-05-07  17:10             6ÿ936 spec_check_II.Rmd\n",
      "2020-03-10  10:22         1ÿ129ÿ179 spec_data_curated.txt\n",
      "2020-05-16  21:31           265ÿ406 stimulus_pattern_continuous.ipynb\n",
      "2020-05-16  15:13            13ÿ807 stimulus_pattern_continuous.Rmd\n",
      "2020-03-10  10:22             1ÿ477 trios2table.py\n",
      "              21 File(s)     31ÿ553ÿ676 bytes\n",
      "               3 Dir(s)  96ÿ949ÿ006ÿ336 bytes free\n"
     ]
    }
   ],
   "source": [
    "ls"
   ]
  },
  {
   "cell_type": "markdown",
   "metadata": {},
   "source": [
    "Get the bin width of wavelengths in nm."
   ]
  },
  {
   "cell_type": "code",
   "execution_count": 6,
   "metadata": {},
   "outputs": [
    {
     "ename": "SyntaxError",
     "evalue": "invalid syntax (<ipython-input-6-44758fd655f6>, line 1)",
     "output_type": "error",
     "traceback": [
      "\u001b[1;36m  File \u001b[1;32m\"<ipython-input-6-44758fd655f6>\"\u001b[1;36m, line \u001b[1;32m1\u001b[0m\n\u001b[1;33m    binwidth = np.round(sum(diff(sort(unique(df$wv))))/length(diff(sort(unique(df$wv)))),2)\u001b[0m\n\u001b[1;37m                                               ^\u001b[0m\n\u001b[1;31mSyntaxError\u001b[0m\u001b[1;31m:\u001b[0m invalid syntax\n"
     ]
    }
   ],
   "source": [
    "binwidth = np.round(sum(diff(sort(unique(df.wv))))/len(diff(sort(unique(df.wv)))),2)\n",
    "print 'The bin width is'+str(binwidth)+'nm'"
   ]
  },
  {
   "cell_type": "markdown",
   "metadata": {},
   "source": [
    "The test pieces for ink that I have used are marked 0 to 100 getting darker\n",
    "(more ink) in steps of 5, indicated by the factor dark. I have added a converse\n",
    "factor, white which runs from 0 to 1 in steps of 0.05, getting brighter. This is\n",
    "to have a factor with a 0-1 scale which scales positively with quanta, which is\n",
    "intuitive and simpler to model. \n",
    "\n",
    "I neglected to record the values for the darkest test piece with the thicker\n",
    "material. However, the differences in reflectance between the smallest values are\n",
    "infinitesimal (see below), so this loses a datapoint but will not have a major\n",
    "(or even recognisable) impact on the printed patterns. \n",
    "\n",
    "## Photon radiance\n",
    "\n",
    "The energy of a photon (joules) - in terms of wavelength (\\lambda) - is defined as: $$ E_p = \\frac{hc}{\\lambda} $$\n",
    "\n",
    "where E is photon energy, and h is Planck's constant.\n",
    "\n",
    "Conversely, the number of photons at a given energy can be found by: $$ E_n = \\frac{\\lambda}{hc} $$\n",
    "\n",
    "Therefore, if spectral radiance is: \n",
    "1 $W s^{-1} m^{-2} sr^{-1} nm^{-1}$ at 500nm (0.0005 m), this equates to:"
   ]
  },
  {
   "cell_type": "code",
   "execution_count": 9,
   "metadata": {},
   "outputs": [
    {
     "name": "stdout",
     "output_type": "stream",
     "text": [
      "2517058283771355136 photons\n"
     ]
    }
   ],
   "source": [
    "print (str(round( (500 *10**-9) /(6.62607015 * 10**-34 * 299792458))) +' photons')"
   ]
  },
  {
   "cell_type": "markdown",
   "metadata": {},
   "source": [
    "Where $6.62607015 * 10^{-34} j/s$ is Planck's constant and 299792458 m/s is the speed of light.\n",
    "\n",
    "Simplified, the number of photons per joule is: $$ N_{p \\lambda} = \\lambda * 5.03*10^{15}$$"
   ]
  },
  {
   "cell_type": "code",
   "execution_count": 11,
   "metadata": {},
   "outputs": [
    {
     "name": "stdout",
     "output_type": "stream",
     "text": [
      "Photons per joule: 2.5170585e+18\n"
     ]
    }
   ],
   "source": [
    "print ('Photons per joule: '+str(500*(5.034117*10**15)))"
   ]
  },
  {
   "cell_type": "markdown",
   "metadata": {},
   "source": [
    "Since a Watt of power is 1 joule per second, this formulation can be used to \n",
    "convert Watt Radiance to photon radiance, by calculating this value for each\n",
    "wavelength bin and factoring it by the power at that bin and summing these \n",
    "photon numbers. "
   ]
  },
  {
   "cell_type": "code",
   "execution_count": null,
   "metadata": {},
   "outputs": [],
   "source": [
    "df %>% mutate(quanta = wv * (5.034117 * 10^15) * specradW) -> df"
   ]
  },
  {
   "cell_type": "markdown",
   "metadata": {},
   "source": [
    "Add columns for the normalized spectral radiance in Watts (norm.W) and\n",
    "represented as photon number (norm.quanta)."
   ]
  },
  {
   "cell_type": "code",
   "execution_count": null,
   "metadata": {
    "lines_to_next_cell": 2
   },
   "outputs": [],
   "source": [
    "df %>% group_by(wv,material) %>% mutate(norm.W = specradW / max(specradW)) -> df\n",
    "df %>% group_by(wv,material) %>% mutate(norm.quanta = quanta / max(quanta)) -> df\n",
    "df %>% group_by(white,material) -> df\n",
    "head(df)"
   ]
  },
  {
   "cell_type": "markdown",
   "metadata": {},
   "source": [
    "### Summarize\n",
    "\n",
    "Get the number of counts for each material and shade combination"
   ]
  },
  {
   "cell_type": "code",
   "execution_count": null,
   "metadata": {},
   "outputs": [],
   "source": [
    "df %>% \n",
    "  group_by(material,white) %>%\n",
    "  summarize(n = n()) -> df_summary\n",
    "\n",
    "df_summary"
   ]
  },
  {
   "cell_type": "markdown",
   "metadata": {},
   "source": [
    "# Sanity checks\n",
    "\n",
    "Get standard deviation between the three replicates (rep) for each combination of factors\n",
    "to find ones where the replicates differ from each other."
   ]
  },
  {
   "cell_type": "code",
   "execution_count": null,
   "metadata": {},
   "outputs": [],
   "source": [
    "df %>% \n",
    "  group_by(material,white,wv) %>%\n",
    "  summarize(#variance = sd(specradW) ^2,\n",
    "            #rel_var = variance / sum(variance) # this isn't working!!\n",
    "            sd     = sd(specradW),\n",
    "            rel_sd = sd(specradW)/mean(specradW)\n",
    "            ) -> wv_summary\n",
    "\n",
    "wv_summary %>% \n",
    "  ggplot(aes(x=wv, y=rel_sd,color=material)) + geom_point() + \n",
    "  xlim(400,700) + ylim(0,0.35) + theme_classic()"
   ]
  },
  {
   "cell_type": "markdown",
   "metadata": {},
   "source": [
    "Find combinations with highest variance."
   ]
  },
  {
   "cell_type": "code",
   "execution_count": null,
   "metadata": {},
   "outputs": [],
   "source": [
    "wv_summary %>%\n",
    "  group_by(material,white) %>%\n",
    "  summarize(tote = sum(rel_sd)) %>% arrange(desc(tote)) -> tote_rel_sd\n",
    "\n",
    "head(tote_rel_sd)"
   ]
  },
  {
   "cell_type": "markdown",
   "metadata": {},
   "source": [
    "The quanta at each 3 nm wavelength bin."
   ]
  },
  {
   "cell_type": "code",
   "execution_count": null,
   "metadata": {
    "lines_to_next_cell": 2,
    "name": "Thick"
   },
   "outputs": [],
   "source": [
    "df %>% \n",
    "  filter(material==\"Thick\") %>% group_by(white) %>%\n",
    "  ggplot(aes(x=wv,y=quanta,color=white)) + geom_point() + xlim(390,690) +\n",
    "  theme_classic()"
   ]
  },
  {
   "cell_type": "code",
   "execution_count": null,
   "metadata": {},
   "outputs": [],
   "source": [
    "df %>% \n",
    "  ggplot(aes(x=wv,y=norm.quanta,group = white,color=material,shape=material)) + \n",
    "       geom_point(alpha=0.5) + \n",
    "       xlim(400,650) + ylim(0,1) + theme_classic()"
   ]
  },
  {
   "cell_type": "markdown",
   "metadata": {},
   "source": [
    "Not a huge difference between the two materials. In the wv region which is\n",
    "probably most relevant (450-550 nm) the thicker material is consistently brighter\n",
    "than the thinner one for the lightest shades. More importantly, the thicker one\n",
    "is slightly whiteer or equivalent for the whiteest shades across the entire range\n",
    "from 400-600nm. I will proceed with the thicker material on account of its\n",
    "greater contrast in the relevant spectral range (and its toughness.) "
   ]
  },
  {
   "cell_type": "code",
   "execution_count": null,
   "metadata": {},
   "outputs": [],
   "source": [
    "df %>% \n",
    "  filter(material==\"Thick\") %>%\n",
    "  ggplot(aes(x=wv,y=norm.quanta,group = white,color=rep)) + \n",
    "       geom_point(alpha=0.5,shape=16) + \n",
    "       xlim(400,675) + ylim(0,1) + theme_classic()"
   ]
  },
  {
   "cell_type": "markdown",
   "metadata": {},
   "source": [
    "Enhance, zoom and enhance."
   ]
  },
  {
   "cell_type": "code",
   "execution_count": null,
   "metadata": {},
   "outputs": [],
   "source": [
    "df %>% \n",
    "  filter(material==\"Thick\") %>%\n",
    "  ggplot(aes(x=wv,y=norm.quanta,group = white,color=rep)) + \n",
    "       geom_point(alpha=0.3,shape=16) + \n",
    "       xlim(400,600) + ylim(0,1) + theme_classic()"
   ]
  },
  {
   "cell_type": "markdown",
   "metadata": {},
   "source": [
    "## First approximation to compare ratios of quanta between test sets\n",
    "\n",
    "If the peak is around 500 nm. We factor the quanta by 3 because the bin width\n",
    "is 3 nm."
   ]
  },
  {
   "cell_type": "code",
   "execution_count": null,
   "metadata": {
    "lines_to_next_cell": 2
   },
   "outputs": [],
   "source": [
    "df %>% \n",
    "  filter(between(wv,400,600)) %>% group_by(material,white,rep) %>%\n",
    "  summarize(tote_quanta = sum(quanta*binwidth)\n",
    "            ) -> photon_n\n",
    "\n",
    "photon_n %>% \n",
    "  ggplot(aes(x=white,y=tote_quanta,color=rep,shape=material)) + geom_point() +\n",
    "  labs(plot.title ='Number of photons in the range 425 to 575 nm') + \n",
    "  geom_line() + theme_classic()"
   ]
  },
  {
   "cell_type": "markdown",
   "metadata": {},
   "source": [
    "For the thick material, the dark 25 (white 0.75) rep III is awry, as is the dark\n",
    "90 (white 0.1) rep III, as is rep II of dark 65 (white 0.35) for the thin material.\n",
    "I will remove these. "
   ]
  },
  {
   "cell_type": "code",
   "execution_count": null,
   "metadata": {},
   "outputs": [],
   "source": [
    "df2 <- df\n",
    "df2 <- df2[!(df2$material==\"Thick\" & df2$dark==25 & df2$rep==\"III\"),]\n",
    "df2 <- df2[!(df2$material==\"Thick\" & df2$dark==85 & df2$rep==\"III\"),]\n",
    "df2 <- df2[!(df2$material==\"Thin\"  & df2$dark==65 & df2$rep==\"II\"),]"
   ]
  },
  {
   "cell_type": "markdown",
   "metadata": {},
   "source": [
    "Plot the revised data in a reasonable wv range."
   ]
  },
  {
   "cell_type": "code",
   "execution_count": null,
   "metadata": {},
   "outputs": [],
   "source": [
    "df2 %>%\n",
    "  filter(between(wv,400,600)) %>% group_by(material,white,rep) %>%\n",
    "  summarize(tote_quanta = sum(quanta*binwidth)        )  %>%\n",
    "  group_by(material) %>% mutate(norm_quanta = tote_quanta/max(tote_quanta)\n",
    "                                ) %>% \n",
    "  ggplot(aes(x=white,y=norm_quanta,color=rep,shape=material)) + geom_point() +\n",
    "  labs(plot.title ='Number of photons in the range 400 to 575 nm') + \n",
    "  geom_line() + theme_classic()"
   ]
  },
  {
   "cell_type": "markdown",
   "metadata": {},
   "source": [
    "The dataframe is summarized is follows:"
   ]
  },
  {
   "cell_type": "code",
   "execution_count": null,
   "metadata": {
    "lines_to_next_cell": 0
   },
   "outputs": [],
   "source": [
    "summary(df2)\n",
    "write_delim(df2, \"spec_data_curated.txt\", delim=\"\\t\")"
   ]
  },
  {
   "cell_type": "markdown",
   "metadata": {},
   "source": [
    "\n"
   ]
  }
 ],
 "metadata": {
  "jupytext": {
   "cell_metadata_filter": "echo,message,warning,tags,name,-all",
   "main_language": "R",
   "notebook_metadata_filter": "-all"
  },
  "kernelspec": {
   "display_name": "Python 3",
   "language": "python",
   "name": "python3"
  },
  "language_info": {
   "codemirror_mode": {
    "name": "ipython",
    "version": 3
   },
   "file_extension": ".py",
   "mimetype": "text/x-python",
   "name": "python",
   "nbconvert_exporter": "python",
   "pygments_lexer": "ipython3",
   "version": "3.7.6"
  }
 },
 "nbformat": 4,
 "nbformat_minor": 4
}

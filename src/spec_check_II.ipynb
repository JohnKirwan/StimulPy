{
 "cells": [
  {
   "cell_type": "raw",
   "metadata": {},
   "source": [
    "---\n",
    "title: \"Spec check\"\n",
    "author: \"John D. Kirwan\"\n",
    "date: \"November 27, 2019\"\n",
    "output:\n",
    "  html_document: default\n",
    "  pdf_document: default\n",
    "---"
   ]
  },
  {
   "cell_type": "code",
   "execution_count": null,
   "metadata": {
    "name": "setup",
    "tags": [
     "remove_cell"
    ]
   },
   "outputs": [],
   "source": [
    "knitr::opts_chunk$set(echo = TRUE)"
   ]
  },
  {
   "cell_type": "markdown",
   "metadata": {},
   "source": [
    "Queries:\n",
    "- Given that the reflectance \n",
    "- Is the means of deciding wv sensitivity range optimal?"
   ]
  },
  {
   "cell_type": "code",
   "execution_count": null,
   "metadata": {
    "echo": true,
    "message": false,
    "warning": false
   },
   "outputs": [],
   "source": [
    "library('readr')\n",
    "library('dplyr')\n",
    "library('ggplot2')\n",
    "library('tibble')"
   ]
  },
  {
   "cell_type": "markdown",
   "metadata": {},
   "source": [
    "TriOS units are in mW/(m^2 nm Sr), so convert to W later."
   ]
  },
  {
   "cell_type": "code",
   "execution_count": null,
   "metadata": {},
   "outputs": [],
   "source": [
    "df2 <- read_delim('spec_data_curated.txt',delim='\\t')"
   ]
  },
  {
   "cell_type": "markdown",
   "metadata": {},
   "source": [
    "The dataframe is summarized is follows:"
   ]
  },
  {
   "cell_type": "code",
   "execution_count": null,
   "metadata": {},
   "outputs": [],
   "source": [
    "summary(df2)"
   ]
  },
  {
   "cell_type": "markdown",
   "metadata": {},
   "source": [
    "Get the bin width of wavelengths in nm."
   ]
  },
  {
   "cell_type": "code",
   "execution_count": null,
   "metadata": {
    "lines_to_next_cell": 2
   },
   "outputs": [],
   "source": [
    "binwidth <- round(sum(diff(sort(unique(df2$wv))))/length(diff(sort(unique(df2$wv)))),2)\n",
    "print(paste('The bin width is',binwidth,'nm'))"
   ]
  },
  {
   "cell_type": "markdown",
   "metadata": {},
   "source": [
    "We can ignore the rep and fit a spline to data.(Need to divide by the number of\n",
    "reps at that wv, material.) We can also normalize to the highest value, for each\n",
    "material. We test in the range 425 to 575."
   ]
  },
  {
   "cell_type": "code",
   "execution_count": null,
   "metadata": {},
   "outputs": [],
   "source": [
    "df2 %>% \n",
    "  filter(between(wv,425,575)) %>% group_by(material,white) %>%\n",
    "  summarize(tote_quanta = sum(quanta*binwidth)/n_distinct(rep),\n",
    "              hi_quanta = (median(quanta)*binwidth)/n_distinct(rep)    ) %>%\n",
    "  group_by(material) %>% mutate(norm_quanta = tote_quanta/max(tote_quanta)\n",
    "                                )-> photon_n"
   ]
  },
  {
   "cell_type": "code",
   "execution_count": null,
   "metadata": {},
   "outputs": [],
   "source": [
    "summary(photon_n)"
   ]
  },
  {
   "cell_type": "markdown",
   "metadata": {},
   "source": [
    "The reflectance (in the range relevant for urchins, measured in photons) for the\n",
    "darkest material is 3.7% of that for the brightest material. The reflectanc of the\n",
    "darkest third of ink values are extremely similar. \n",
    "\n",
    "This plateau is a combination of (i) an actual tapering of the change in\n",
    "refletance and (ii) some measurement error - although the replicates are\n",
    "mostly very similar.\n",
    "\n",
    "I want to find the ink shades which best correspond to specified reflectances. I\n",
    "will treat the darkest shade available to me as 0: no reflectance. There will\n",
    "be less specular reflectance and scattered light in the water - I will measure\n",
    "this with the patterns. \n",
    "\n",
    "I will re-normalize the curve having subtracted the reflectance at white=0\n",
    "(the darkest ink, dark = 100), and bringing negative quanta values to 0. \n"
   ]
  },
  {
   "cell_type": "code",
   "execution_count": null,
   "metadata": {},
   "outputs": [],
   "source": [
    "photon_n %>%\n",
    "  group_by(material) %>%\n",
    "    mutate(abs_reflectance =  tote_quanta / (max(tote_quanta)),\n",
    "           reflectance = (tote_quanta - min(tote_quanta)) / (max(tote_quanta) - min(tote_quanta)),\n",
    "        dark = 100*(-(white - 0.5) + 0.5)     \n",
    "        ) -> photon_n\n",
    "\n",
    "head(photon_n)"
   ]
  },
  {
   "cell_type": "markdown",
   "metadata": {},
   "source": [
    "The differences for the darkest shades, recognisable by (human) eye, are minute. We use a relative scale of how white the inks are (from 0 to 1) as this is postively related to reflectance, and therefore intuitive.\n",
    "\n",
    "The loess must be adjusted such that the trend increases monotonically. With\n",
    "span=0.3 this is achieved."
   ]
  },
  {
   "cell_type": "code",
   "execution_count": null,
   "metadata": {
    "lines_to_next_cell": 0
   },
   "outputs": [],
   "source": [
    "photon_n %>% \n",
    "  ggplot(aes(x=white,y=abs_reflectance,color=material,shape=material)) + \n",
    "  labs(plot.title ='Number of photons in the range 425 to 575 nm') +\n",
    "  stat_smooth(method=\"loess\",formula='y~x',span=0.3,level=0.95) + \n",
    "  geom_point() + theme_classic()"
   ]
  },
  {
   "cell_type": "markdown",
   "metadata": {},
   "source": [
    "\n"
   ]
  },
  {
   "cell_type": "code",
   "execution_count": null,
   "metadata": {},
   "outputs": [],
   "source": [
    "fit = loess(data=photon_n[(photon_n$material==\"Thick\"),],\n",
    "            formula='abs_reflectance~white',span=0.3,degree=2)\n",
    "round(predict(fit,newdata=c(0,0.05,0.1,0.2,0.33,0.5,0.66,1)),5)"
   ]
  },
  {
   "cell_type": "markdown",
   "metadata": {},
   "source": [
    "This number of quanta is negligibly small in contrast with the maximum - all\n",
    "reflectances this low (which will be asigned NA) can be assigned to the darkest\n",
    "(most ink) shade value. Similarily, maximum reflectance values will be rounded \n",
    "up to the lightest shade. \n",
    "\n",
    "# Invert the model equation\n",
    "\n",
    "We want to get the ideal shade from a known reflectance. Here, I revert to using the dark ink shade. We use a relative measure of reflectance,normalized such that the minimum reflectance is zero (rel_reflectance). Here with fit polynomials:"
   ]
  },
  {
   "cell_type": "code",
   "execution_count": null,
   "metadata": {},
   "outputs": [],
   "source": [
    "photon_n %>% \n",
    "  filter(material==\"Thick\") %>%\n",
    "  ggplot(aes(x=reflectance,y=dark)) + \n",
    "  stat_smooth(method=\"lm\",formula='y~I(x**(0.3))',  color='green',level=.999) + \n",
    "  geom_hline(aes(yintercept=0)) +\n",
    "  geom_point() + theme_classic()"
   ]
  },
  {
   "cell_type": "markdown",
   "metadata": {},
   "source": [
    "This is quite close - and does not one falls below zero *dark* (ink) - but doesn't maximize the black ink (I want the dark part to be as black as possible). "
   ]
  },
  {
   "cell_type": "code",
   "execution_count": null,
   "metadata": {},
   "outputs": [],
   "source": [
    "photon_n %>% \n",
    "  filter(material==\"Thick\") %>%\n",
    "  ggplot(aes(x=reflectance,y=dark)) + \n",
    "  stat_smooth(method=\"loess\",formula='y~x',span=0.3,level=0.95) + \n",
    "  geom_hline(aes(yintercept=0)) +\n",
    "  geom_point() + theme_classic()"
   ]
  },
  {
   "cell_type": "markdown",
   "metadata": {},
   "source": [
    "This loess fit finds the minimum and maximum but the non-monotonic kink is concerning I had a go at using a basic spline but the lm above is still the best fit I used. \n",
    "\n",
    "#### Fit a model and save the obj"
   ]
  },
  {
   "cell_type": "code",
   "execution_count": null,
   "metadata": {
    "lines_to_next_cell": 2
   },
   "outputs": [],
   "source": [
    "photon_n %>% filter(material==\"Thick\") -> Thick_photon_n\n",
    "lm.root.3.fit   <- lm(dark~I(reflectance**(.3)),data=Thick_photon_n)"
   ]
  },
  {
   "cell_type": "markdown",
   "metadata": {},
   "source": [
    "Plot predictions of ink against reflectance."
   ]
  },
  {
   "cell_type": "code",
   "execution_count": null,
   "metadata": {},
   "outputs": [],
   "source": [
    "newdat <- as.data.frame(seq(from=0,to=1,length.out = 1000))\n",
    "names(newdat) <- as.character(\"reflectance\")\n",
    "predz         <- round(predict(lm.root.3.fit,newdata=newdat),2)\n",
    "plot(NULL, xlim=c(0,1),ylim=c(0,100),xlab=\"Reflectance\",ylab=\"ink\")\n",
    "lines(x=newdat$reflectance,y=predz)\n",
    "saveRDS(lm.root.3.fit,\"reflectance.rds\")"
   ]
  },
  {
   "cell_type": "code",
   "execution_count": null,
   "metadata": {
    "lines_to_next_cell": 2
   },
   "outputs": [],
   "source": [
    "summary(predz)"
   ]
  },
  {
   "cell_type": "markdown",
   "metadata": {},
   "source": [
    "Above are the reflectances (proportion) of the material sought and the ink values (%)\n",
    "of the maximum ink value, to be used. So, for example, to get 50% of the maximal\n",
    "reflectance (the median), an ink proportion of 17% of the maximum ought to be used. "
   ]
  },
  {
   "cell_type": "code",
   "execution_count": null,
   "metadata": {},
   "outputs": [],
   "source": [
    "fogra39_richblack <- c(91, 79, 62, 97)\n",
    "print(paste(c('C:','M:','Y:','K:'),round(fogra39_richblack*round(predict(lm.root.3.fit,\n",
    "      newdata=0.5 # reflectance sought\n",
    "      ),2)/100,2)))"
   ]
  },
  {
   "cell_type": "markdown",
   "metadata": {},
   "source": [
    "## Test robustness of estimates\n",
    "\n",
    "The reflectance indicated is subject to (i) range of values over which it is\n",
    "computed, (ii) the shape of that function, a square wave in this case, (iii) \n",
    "the distribution of wavelengths of light applied. \n",
    "\n",
    "*Check if should use norm.quanta instead*"
   ]
  },
  {
   "cell_type": "code",
   "execution_count": null,
   "metadata": {
    "lines_to_next_cell": 0
   },
   "outputs": [],
   "source": [
    "count_quanta <- function(df,lambda_max,range){\n",
    "hi <- lambda_max + range/2\n",
    "lo <- lambda_max - range/2\n",
    "  \n",
    "df %>% \n",
    "  filter(between(wv,lo,hi)) %>% group_by(material,white) %>%\n",
    "  summarize(tote_quanta = sum(quanta*binwidth)/n_distinct(rep)) %>%\n",
    "  group_by(material) %>% mutate(norm_quanta = tote_quanta/max(tote_quanta)) %>%\n",
    "  group_by(material) %>%\n",
    "  mutate(\n",
    "  reflectance = (tote_quanta - min(tote_quanta)) /\n",
    "                (max(tote_quanta) - min(tote_quanta)),\n",
    "         dark = 100*(-(white - 0.5) + 0.5) ) -> photon_n\n",
    "\n",
    "invertfit = loess(data=photon_n[(photon_n$material==\"Thick\"),],\n",
    "            formula='dark ~ reflectance',span=0.3,degree=2)\n",
    "reflect <- seq(from=0,to=1,length.out = 21)\n",
    "dark         <- round(predict(invertfit,newdata=reflect),2)\n",
    "table <- rbind(reflect,dark)\n",
    "return(table)\n",
    "}"
   ]
  },
  {
   "cell_type": "markdown",
   "metadata": {},
   "source": [
    "\n"
   ]
  }
 ],
 "metadata": {
  "jupytext": {
   "cell_metadata_filter": "name,tags,message,warning,echo,-all",
   "main_language": "R",
   "notebook_metadata_filter": "-all"
  }
 },
 "nbformat": 4,
 "nbformat_minor": 4
}
